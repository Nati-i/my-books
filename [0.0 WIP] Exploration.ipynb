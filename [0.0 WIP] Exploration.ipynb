{
 "cells": [
  {
   "cell_type": "markdown",
   "metadata": {},
   "source": [
    "# Explore Data\n",
    "- Then build book tree"
   ]
  },
  {
   "cell_type": "code",
   "execution_count": 1,
   "metadata": {},
   "outputs": [],
   "source": [
    "import pandas as pd\n",
    "import numpy as np"
   ]
  },
  {
   "cell_type": "code",
   "execution_count": 2,
   "metadata": {},
   "outputs": [],
   "source": [
    "df = pd.read_csv('goodreads_library_export.csv')"
   ]
  },
  {
   "cell_type": "code",
   "execution_count": 3,
   "metadata": {},
   "outputs": [
    {
     "data": {
      "text/html": [
       "<div>\n",
       "<style scoped>\n",
       "    .dataframe tbody tr th:only-of-type {\n",
       "        vertical-align: middle;\n",
       "    }\n",
       "\n",
       "    .dataframe tbody tr th {\n",
       "        vertical-align: top;\n",
       "    }\n",
       "\n",
       "    .dataframe thead th {\n",
       "        text-align: right;\n",
       "    }\n",
       "</style>\n",
       "<table border=\"1\" class=\"dataframe\">\n",
       "  <thead>\n",
       "    <tr style=\"text-align: right;\">\n",
       "      <th></th>\n",
       "      <th>Book Id</th>\n",
       "      <th>Title</th>\n",
       "      <th>Author</th>\n",
       "      <th>Author l-f</th>\n",
       "      <th>Additional Authors</th>\n",
       "      <th>ISBN</th>\n",
       "      <th>ISBN13</th>\n",
       "      <th>My Rating</th>\n",
       "      <th>Average Rating</th>\n",
       "      <th>Publisher</th>\n",
       "      <th>...</th>\n",
       "      <th>Private Notes</th>\n",
       "      <th>Read Count</th>\n",
       "      <th>Recommended For</th>\n",
       "      <th>Recommended By</th>\n",
       "      <th>Owned Copies</th>\n",
       "      <th>Original Purchase Date</th>\n",
       "      <th>Original Purchase Location</th>\n",
       "      <th>Condition</th>\n",
       "      <th>Condition Description</th>\n",
       "      <th>BCID</th>\n",
       "    </tr>\n",
       "  </thead>\n",
       "  <tbody>\n",
       "    <tr>\n",
       "      <th>1121</th>\n",
       "      <td>52036</td>\n",
       "      <td>Siddhartha</td>\n",
       "      <td>Hermann Hesse</td>\n",
       "      <td>Hesse, Hermann</td>\n",
       "      <td>Hilda Rosner</td>\n",
       "      <td>=\"\"</td>\n",
       "      <td>=\"\"</td>\n",
       "      <td>5</td>\n",
       "      <td>4.03</td>\n",
       "      <td>Bantam Books</td>\n",
       "      <td>...</td>\n",
       "      <td>NaN</td>\n",
       "      <td>1</td>\n",
       "      <td>NaN</td>\n",
       "      <td>NaN</td>\n",
       "      <td>0</td>\n",
       "      <td>NaN</td>\n",
       "      <td>NaN</td>\n",
       "      <td>NaN</td>\n",
       "      <td>NaN</td>\n",
       "      <td>NaN</td>\n",
       "    </tr>\n",
       "    <tr>\n",
       "      <th>1122</th>\n",
       "      <td>30659</td>\n",
       "      <td>Meditations</td>\n",
       "      <td>Marcus Aurelius</td>\n",
       "      <td>Aurelius, Marcus</td>\n",
       "      <td>Martin Hammond, Albert Wittstock, Simone Mooij...</td>\n",
       "      <td>=\"0140449337\"</td>\n",
       "      <td>=\"9780140449334\"</td>\n",
       "      <td>4</td>\n",
       "      <td>4.22</td>\n",
       "      <td>Penguin Books</td>\n",
       "      <td>...</td>\n",
       "      <td>NaN</td>\n",
       "      <td>1</td>\n",
       "      <td>NaN</td>\n",
       "      <td>NaN</td>\n",
       "      <td>0</td>\n",
       "      <td>NaN</td>\n",
       "      <td>NaN</td>\n",
       "      <td>NaN</td>\n",
       "      <td>NaN</td>\n",
       "      <td>NaN</td>\n",
       "    </tr>\n",
       "  </tbody>\n",
       "</table>\n",
       "<p>2 rows × 31 columns</p>\n",
       "</div>"
      ],
      "text/plain": [
       "      Book Id        Title           Author        Author l-f  \\\n",
       "1121    52036   Siddhartha    Hermann Hesse    Hesse, Hermann   \n",
       "1122    30659  Meditations  Marcus Aurelius  Aurelius, Marcus   \n",
       "\n",
       "                                     Additional Authors           ISBN  \\\n",
       "1121                                       Hilda Rosner            =\"\"   \n",
       "1122  Martin Hammond, Albert Wittstock, Simone Mooij...  =\"0140449337\"   \n",
       "\n",
       "                ISBN13  My Rating  Average Rating      Publisher  ...  \\\n",
       "1121               =\"\"          5            4.03   Bantam Books  ...   \n",
       "1122  =\"9780140449334\"          4            4.22  Penguin Books  ...   \n",
       "\n",
       "     Private Notes  Read Count  Recommended For  Recommended By Owned Copies  \\\n",
       "1121           NaN           1              NaN             NaN            0   \n",
       "1122           NaN           1              NaN             NaN            0   \n",
       "\n",
       "     Original Purchase Date Original Purchase Location Condition  \\\n",
       "1121                    NaN                        NaN       NaN   \n",
       "1122                    NaN                        NaN       NaN   \n",
       "\n",
       "     Condition Description BCID  \n",
       "1121                   NaN  NaN  \n",
       "1122                   NaN  NaN  \n",
       "\n",
       "[2 rows x 31 columns]"
      ]
     },
     "execution_count": 3,
     "metadata": {},
     "output_type": "execute_result"
    }
   ],
   "source": [
    "df.tail(2)"
   ]
  },
  {
   "cell_type": "code",
   "execution_count": 4,
   "metadata": {},
   "outputs": [
    {
     "name": "stdout",
     "output_type": "stream",
     "text": [
      "Columns:\n",
      "- Book Id\n",
      "- Title\n",
      "- Author\n",
      "- Author l-f\n",
      "- Additional Authors\n",
      "- ISBN\n",
      "- ISBN13\n",
      "- My Rating\n",
      "- Average Rating\n",
      "- Publisher\n",
      "- Binding\n",
      "- Number of Pages\n",
      "- Year Published\n",
      "- Original Publication Year\n",
      "- Date Read\n",
      "- Date Added\n",
      "- Bookshelves\n",
      "- Bookshelves with positions\n",
      "- Exclusive Shelf\n",
      "- My Review\n",
      "- Spoiler\n",
      "- Private Notes\n",
      "- Read Count\n",
      "- Recommended For\n",
      "- Recommended By\n",
      "- Owned Copies\n",
      "- Original Purchase Date\n",
      "- Original Purchase Location\n",
      "- Condition\n",
      "- Condition Description\n",
      "- BCID\n"
     ]
    }
   ],
   "source": [
    "print('Columns:', *df.columns, sep='\\n- ')"
   ]
  },
  {
   "cell_type": "code",
   "execution_count": 5,
   "metadata": {},
   "outputs": [
    {
     "data": {
      "text/plain": [
       "Index(['Book Id', 'Title', 'Author', 'Author l-f', 'Additional Authors',\n",
       "       'ISBN', 'ISBN13', 'My Rating', 'Average Rating', 'Publisher', 'Binding',\n",
       "       'Number of Pages', 'Year Published', 'Original Publication Year',\n",
       "       'Date Read', 'Date Added', 'Bookshelves', 'Bookshelves with positions',\n",
       "       'Exclusive Shelf', 'My Review', 'Spoiler', 'Private Notes',\n",
       "       'Read Count', 'Recommended For', 'Recommended By', 'Owned Copies',\n",
       "       'Original Purchase Date', 'Original Purchase Location', 'Condition',\n",
       "       'Condition Description', 'BCID'],\n",
       "      dtype='object')"
      ]
     },
     "execution_count": 5,
     "metadata": {},
     "output_type": "execute_result"
    }
   ],
   "source": [
    "df.columns"
   ]
  },
  {
   "cell_type": "code",
   "execution_count": 6,
   "metadata": {},
   "outputs": [],
   "source": [
    "# Drop Columns\n",
    "drop_columns = ['Book Id', 'Title', 'Author','My Rating', 'Average Rating',\n",
    "       'Date Read', 'Date Added', 'Bookshelves',\n",
    "       'Exclusive Shelf', 'My Review']\n",
    "\n",
    "for col in df.columns:\n",
    "    if col not in drop_columns:\n",
    "        df.drop(col, inplace=True, axis=1)"
   ]
  },
  {
   "cell_type": "code",
   "execution_count": 7,
   "metadata": {},
   "outputs": [],
   "source": [
    "# Get only read rows\n",
    "\n",
    "df = df[df['Exclusive Shelf'] == 'read']"
   ]
  },
  {
   "cell_type": "code",
   "execution_count": 8,
   "metadata": {},
   "outputs": [],
   "source": [
    "df.reset_index(inplace=True)"
   ]
  },
  {
   "cell_type": "code",
   "execution_count": 9,
   "metadata": {},
   "outputs": [],
   "source": [
    "df.drop('index', inplace=True, axis=1)"
   ]
  },
  {
   "cell_type": "code",
   "execution_count": 10,
   "metadata": {},
   "outputs": [],
   "source": [
    "df['Date Read'] = pd.to_datetime(df['Date Read'])\n",
    "df['Date Added'] = pd.to_datetime(df['Date Added'])"
   ]
  },
  {
   "cell_type": "code",
   "execution_count": 11,
   "metadata": {},
   "outputs": [],
   "source": [
    "df['Date Read'].fillna(\"missing\", inplace=True)"
   ]
  },
  {
   "cell_type": "code",
   "execution_count": 12,
   "metadata": {},
   "outputs": [
    {
     "data": {
      "text/html": [
       "<div>\n",
       "<style scoped>\n",
       "    .dataframe tbody tr th:only-of-type {\n",
       "        vertical-align: middle;\n",
       "    }\n",
       "\n",
       "    .dataframe tbody tr th {\n",
       "        vertical-align: top;\n",
       "    }\n",
       "\n",
       "    .dataframe thead th {\n",
       "        text-align: right;\n",
       "    }\n",
       "</style>\n",
       "<table border=\"1\" class=\"dataframe\">\n",
       "  <thead>\n",
       "    <tr style=\"text-align: right;\">\n",
       "      <th></th>\n",
       "      <th>Book Id</th>\n",
       "      <th>Title</th>\n",
       "      <th>Author</th>\n",
       "      <th>My Rating</th>\n",
       "      <th>Average Rating</th>\n",
       "      <th>Date Read</th>\n",
       "      <th>Date Added</th>\n",
       "      <th>Bookshelves</th>\n",
       "      <th>Exclusive Shelf</th>\n",
       "      <th>My Review</th>\n",
       "    </tr>\n",
       "  </thead>\n",
       "  <tbody>\n",
       "    <tr>\n",
       "      <th>128</th>\n",
       "      <td>36391536</td>\n",
       "      <td>She Has Her Mother's Laugh: The Powers, Perver...</td>\n",
       "      <td>Carl Zimmer</td>\n",
       "      <td>5</td>\n",
       "      <td>4.17</td>\n",
       "      <td>2019-03-24 00:00:00</td>\n",
       "      <td>2018-11-23</td>\n",
       "      <td>biology</td>\n",
       "      <td>read</td>\n",
       "      <td>This was a great book to read. Its full of fas...</td>\n",
       "    </tr>\n",
       "    <tr>\n",
       "      <th>129</th>\n",
       "      <td>35133922</td>\n",
       "      <td>Educated</td>\n",
       "      <td>Tara Westover</td>\n",
       "      <td>0</td>\n",
       "      <td>4.46</td>\n",
       "      <td>2019-03-02 00:00:00</td>\n",
       "      <td>2018-12-10</td>\n",
       "      <td>NaN</td>\n",
       "      <td>read</td>\n",
       "      <td>NaN</td>\n",
       "    </tr>\n",
       "    <tr>\n",
       "      <th>130</th>\n",
       "      <td>2657</td>\n",
       "      <td>To Kill a Mockingbird</td>\n",
       "      <td>Harper Lee</td>\n",
       "      <td>0</td>\n",
       "      <td>4.28</td>\n",
       "      <td>missing</td>\n",
       "      <td>2019-02-27</td>\n",
       "      <td>NaN</td>\n",
       "      <td>read</td>\n",
       "      <td>NaN</td>\n",
       "    </tr>\n",
       "    <tr>\n",
       "      <th>131</th>\n",
       "      <td>2195464</td>\n",
       "      <td>What I Talk About When I Talk About Running</td>\n",
       "      <td>Haruki Murakami</td>\n",
       "      <td>5</td>\n",
       "      <td>3.85</td>\n",
       "      <td>2019-02-26 00:00:00</td>\n",
       "      <td>2019-02-14</td>\n",
       "      <td>NaN</td>\n",
       "      <td>read</td>\n",
       "      <td>This book is about the life of Haruki Murakami...</td>\n",
       "    </tr>\n",
       "    <tr>\n",
       "      <th>132</th>\n",
       "      <td>551520</td>\n",
       "      <td>The Wisdom of Insecurity: A Message for an Age...</td>\n",
       "      <td>Alan W. Watts</td>\n",
       "      <td>0</td>\n",
       "      <td>4.20</td>\n",
       "      <td>2019-02-15 00:00:00</td>\n",
       "      <td>2019-02-10</td>\n",
       "      <td>NaN</td>\n",
       "      <td>read</td>\n",
       "      <td>NaN</td>\n",
       "    </tr>\n",
       "    <tr>\n",
       "      <th>...</th>\n",
       "      <td>...</td>\n",
       "      <td>...</td>\n",
       "      <td>...</td>\n",
       "      <td>...</td>\n",
       "      <td>...</td>\n",
       "      <td>...</td>\n",
       "      <td>...</td>\n",
       "      <td>...</td>\n",
       "      <td>...</td>\n",
       "      <td>...</td>\n",
       "    </tr>\n",
       "    <tr>\n",
       "      <th>193</th>\n",
       "      <td>3228917</td>\n",
       "      <td>Outliers: The Story of Success</td>\n",
       "      <td>Malcolm Gladwell</td>\n",
       "      <td>4</td>\n",
       "      <td>4.16</td>\n",
       "      <td>missing</td>\n",
       "      <td>2016-10-03</td>\n",
       "      <td>NaN</td>\n",
       "      <td>read</td>\n",
       "      <td>NaN</td>\n",
       "    </tr>\n",
       "    <tr>\n",
       "      <th>194</th>\n",
       "      <td>4069</td>\n",
       "      <td>Man's Search for Meaning</td>\n",
       "      <td>Viktor E. Frankl</td>\n",
       "      <td>5</td>\n",
       "      <td>4.36</td>\n",
       "      <td>missing</td>\n",
       "      <td>2016-10-03</td>\n",
       "      <td>NaN</td>\n",
       "      <td>read</td>\n",
       "      <td>NaN</td>\n",
       "    </tr>\n",
       "    <tr>\n",
       "      <th>195</th>\n",
       "      <td>629</td>\n",
       "      <td>Zen and the Art of Motorcycle Maintenance: An ...</td>\n",
       "      <td>Robert M. Pirsig</td>\n",
       "      <td>4</td>\n",
       "      <td>3.77</td>\n",
       "      <td>missing</td>\n",
       "      <td>2016-10-03</td>\n",
       "      <td>NaN</td>\n",
       "      <td>read</td>\n",
       "      <td>NaN</td>\n",
       "    </tr>\n",
       "    <tr>\n",
       "      <th>196</th>\n",
       "      <td>52036</td>\n",
       "      <td>Siddhartha</td>\n",
       "      <td>Hermann Hesse</td>\n",
       "      <td>5</td>\n",
       "      <td>4.03</td>\n",
       "      <td>missing</td>\n",
       "      <td>2016-10-03</td>\n",
       "      <td>NaN</td>\n",
       "      <td>read</td>\n",
       "      <td>NaN</td>\n",
       "    </tr>\n",
       "    <tr>\n",
       "      <th>197</th>\n",
       "      <td>30659</td>\n",
       "      <td>Meditations</td>\n",
       "      <td>Marcus Aurelius</td>\n",
       "      <td>4</td>\n",
       "      <td>4.22</td>\n",
       "      <td>missing</td>\n",
       "      <td>2016-10-03</td>\n",
       "      <td>NaN</td>\n",
       "      <td>read</td>\n",
       "      <td>NaN</td>\n",
       "    </tr>\n",
       "  </tbody>\n",
       "</table>\n",
       "<p>70 rows × 10 columns</p>\n",
       "</div>"
      ],
      "text/plain": [
       "      Book Id                                              Title  \\\n",
       "128  36391536  She Has Her Mother's Laugh: The Powers, Perver...   \n",
       "129  35133922                                           Educated   \n",
       "130      2657                              To Kill a Mockingbird   \n",
       "131   2195464        What I Talk About When I Talk About Running   \n",
       "132    551520  The Wisdom of Insecurity: A Message for an Age...   \n",
       "..        ...                                                ...   \n",
       "193   3228917                     Outliers: The Story of Success   \n",
       "194      4069                           Man's Search for Meaning   \n",
       "195       629  Zen and the Art of Motorcycle Maintenance: An ...   \n",
       "196     52036                                         Siddhartha   \n",
       "197     30659                                        Meditations   \n",
       "\n",
       "               Author  My Rating  Average Rating            Date Read  \\\n",
       "128       Carl Zimmer          5            4.17  2019-03-24 00:00:00   \n",
       "129     Tara Westover          0            4.46  2019-03-02 00:00:00   \n",
       "130        Harper Lee          0            4.28              missing   \n",
       "131   Haruki Murakami          5            3.85  2019-02-26 00:00:00   \n",
       "132     Alan W. Watts          0            4.20  2019-02-15 00:00:00   \n",
       "..                ...        ...             ...                  ...   \n",
       "193  Malcolm Gladwell          4            4.16              missing   \n",
       "194  Viktor E. Frankl          5            4.36              missing   \n",
       "195  Robert M. Pirsig          4            3.77              missing   \n",
       "196     Hermann Hesse          5            4.03              missing   \n",
       "197   Marcus Aurelius          4            4.22              missing   \n",
       "\n",
       "    Date Added Bookshelves Exclusive Shelf  \\\n",
       "128 2018-11-23     biology            read   \n",
       "129 2018-12-10         NaN            read   \n",
       "130 2019-02-27         NaN            read   \n",
       "131 2019-02-14         NaN            read   \n",
       "132 2019-02-10         NaN            read   \n",
       "..         ...         ...             ...   \n",
       "193 2016-10-03         NaN            read   \n",
       "194 2016-10-03         NaN            read   \n",
       "195 2016-10-03         NaN            read   \n",
       "196 2016-10-03         NaN            read   \n",
       "197 2016-10-03         NaN            read   \n",
       "\n",
       "                                             My Review  \n",
       "128  This was a great book to read. Its full of fas...  \n",
       "129                                                NaN  \n",
       "130                                                NaN  \n",
       "131  This book is about the life of Haruki Murakami...  \n",
       "132                                                NaN  \n",
       "..                                                 ...  \n",
       "193                                                NaN  \n",
       "194                                                NaN  \n",
       "195                                                NaN  \n",
       "196                                                NaN  \n",
       "197                                                NaN  \n",
       "\n",
       "[70 rows x 10 columns]"
      ]
     },
     "execution_count": 12,
     "metadata": {},
     "output_type": "execute_result"
    }
   ],
   "source": [
    "df.tail(70)"
   ]
  },
  {
   "cell_type": "code",
   "execution_count": 13,
   "metadata": {},
   "outputs": [],
   "source": [
    "def diff(start, end):\n",
    "    x = pd.to_datetime(end) - pd.to_datetime(start)\n",
    "    return int(x / np.timedelta64(1, 'W'))"
   ]
  },
  {
   "cell_type": "code",
   "execution_count": 14,
   "metadata": {},
   "outputs": [],
   "source": [
    "my_graph = dict()\n",
    "\n",
    "for i in range(len(df)):\n",
    "    \n",
    "    book = df['Title'][i]\n",
    "    my_graph[book] = []\n",
    "    \n",
    "    start = df['Date Read'][i]\n",
    "    date_added = df['Date Added'][i]\n",
    "    \n",
    "    # Same family if its within two weeks\n",
    "    for j in range(len(df)):\n",
    "        end = df['Date Read'][j]\n",
    "        book2 = df['Title'][j]\n",
    "        #print(start, end)\n",
    "        if 'missing' not in [start, end]:\n",
    "                if diff(start, end) > 1:\n",
    "                    my_graph[book].append(book2)"
   ]
  },
  {
   "cell_type": "code",
   "execution_count": 15,
   "metadata": {},
   "outputs": [],
   "source": [
    "graph = { \"a\" : [\"c\"],\n",
    "          \"b\" : [\"c\", \"e\"],\n",
    "          \"c\" : [\"a\", \"b\", \"d\", \"e\"],\n",
    "          \"d\" : [\"c\"],\n",
    "          \"e\" : [\"c\", \"b\"],\n",
    "          \"f\" : []\n",
    "        }"
   ]
  },
  {
   "cell_type": "code",
   "execution_count": 16,
   "metadata": {},
   "outputs": [
    {
     "name": "stdout",
     "output_type": "stream",
     "text": [
      "[('a', 'c'), ('b', 'c'), ('b', 'e'), ('c', 'a'), ('c', 'b'), ('c', 'd'), ('c', 'e'), ('d', 'c'), ('e', 'c'), ('e', 'b')]\n"
     ]
    }
   ],
   "source": [
    "def generate_edges(graph):\n",
    "    edges = []\n",
    "    for node in graph:\n",
    "        for neighbour in graph[node]:\n",
    "            edges.append((node, neighbour))\n",
    "\n",
    "    return edges\n",
    "\n",
    "print(generate_edges(graph))"
   ]
  },
  {
   "cell_type": "code",
   "execution_count": 17,
   "metadata": {},
   "outputs": [],
   "source": [
    "import networkx as nx\n",
    "import matplotlib.pyplot as plt"
   ]
  },
  {
   "cell_type": "code",
   "execution_count": 18,
   "metadata": {},
   "outputs": [],
   "source": [
    "my_book_edges = generate_edges(my_graph)"
   ]
  },
  {
   "cell_type": "code",
   "execution_count": 21,
   "metadata": {},
   "outputs": [
    {
     "data": {
      "image/png": "[encoded data removed]",
      "text/plain": [
       "<Figure size 1440x1440 with 1 Axes>"
      ]
     },
     "metadata": {},
     "output_type": "display_data"
    }
   ],
   "source": [
    "plt.figure(figsize=(20,20))\n",
    "\n",
    "G=nx.Graph()\n",
    "G.add_edges_from(my_book_edges)\n",
    "nx.draw_spectral(G, with_labels=True)\n",
    "plt.savefig(\"simple_path.png\", dpi=1000) # save as png\n",
    "plt.show() # display"
   ]
  },
  {
   "cell_type": "code",
   "execution_count": 20,
   "metadata": {},
   "outputs": [],
   "source": [
    "# Test orientations \n",
    "# nx.draw_random(G)  \n",
    "# nx.draw_circular(G)  \n",
    "# nx.draw_spectral(G)  \n",
    "# nx.draw_spring(G) "
   ]
  },
  {
   "cell_type": "code",
   "execution_count": null,
   "metadata": {},
   "outputs": [],
   "source": [
    "G = nx.balanced_tree(10,10)\n"
   ]
  }
 ],
 "metadata": {
  "kernelspec": {
   "display_name": "Python 3",
   "language": "python",
   "name": "python3"
  },
  "language_info": {
   "codemirror_mode": {
    "name": "ipython",
    "version": 3
   },
   "file_extension": ".py",
   "mimetype": "text/x-python",
   "name": "python",
   "nbconvert_exporter": "python",
   "pygments_lexer": "ipython3",
   "version": "3.7.6"
  }
 },
 "nbformat": 4,
 "nbformat_minor": 4
}
