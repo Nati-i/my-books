{
 "cells": [
  {
   "cell_type": "markdown",
   "metadata": {},
   "source": [
    "# Explore Data\n",
    "- Then build book tree"
   ]
  },
  {
   "cell_type": "code",
   "execution_count": 1,
   "metadata": {},
   "outputs": [],
   "source": [
    "import pandas as pd"
   ]
  },
  {
   "cell_type": "code",
   "execution_count": 2,
   "metadata": {},
   "outputs": [],
   "source": [
    "df = pd.read_csv('goodreads_library_export.csv')"
   ]
  },
  {
   "cell_type": "code",
   "execution_count": 4,
   "metadata": {},
   "outputs": [
    {
     "data": {
      "text/html": [
       "<div>\n",
       "<style scoped>\n",
       "    .dataframe tbody tr th:only-of-type {\n",
       "        vertical-align: middle;\n",
       "    }\n",
       "\n",
       "    .dataframe tbody tr th {\n",
       "        vertical-align: top;\n",
       "    }\n",
       "\n",
       "    .dataframe thead th {\n",
       "        text-align: right;\n",
       "    }\n",
       "</style>\n",
       "<table border=\"1\" class=\"dataframe\">\n",
       "  <thead>\n",
       "    <tr style=\"text-align: right;\">\n",
       "      <th></th>\n",
       "      <th>Book Id</th>\n",
       "      <th>Title</th>\n",
       "      <th>Author</th>\n",
       "      <th>Author l-f</th>\n",
       "      <th>Additional Authors</th>\n",
       "      <th>ISBN</th>\n",
       "      <th>ISBN13</th>\n",
       "      <th>My Rating</th>\n",
       "      <th>Average Rating</th>\n",
       "      <th>Publisher</th>\n",
       "      <th>...</th>\n",
       "      <th>Private Notes</th>\n",
       "      <th>Read Count</th>\n",
       "      <th>Recommended For</th>\n",
       "      <th>Recommended By</th>\n",
       "      <th>Owned Copies</th>\n",
       "      <th>Original Purchase Date</th>\n",
       "      <th>Original Purchase Location</th>\n",
       "      <th>Condition</th>\n",
       "      <th>Condition Description</th>\n",
       "      <th>BCID</th>\n",
       "    </tr>\n",
       "  </thead>\n",
       "  <tbody>\n",
       "    <tr>\n",
       "      <th>1121</th>\n",
       "      <td>52036</td>\n",
       "      <td>Siddhartha</td>\n",
       "      <td>Hermann Hesse</td>\n",
       "      <td>Hesse, Hermann</td>\n",
       "      <td>Hilda Rosner</td>\n",
       "      <td>=\"\"</td>\n",
       "      <td>=\"\"</td>\n",
       "      <td>5</td>\n",
       "      <td>4.03</td>\n",
       "      <td>Bantam Books</td>\n",
       "      <td>...</td>\n",
       "      <td>NaN</td>\n",
       "      <td>1</td>\n",
       "      <td>NaN</td>\n",
       "      <td>NaN</td>\n",
       "      <td>0</td>\n",
       "      <td>NaN</td>\n",
       "      <td>NaN</td>\n",
       "      <td>NaN</td>\n",
       "      <td>NaN</td>\n",
       "      <td>NaN</td>\n",
       "    </tr>\n",
       "    <tr>\n",
       "      <th>1122</th>\n",
       "      <td>30659</td>\n",
       "      <td>Meditations</td>\n",
       "      <td>Marcus Aurelius</td>\n",
       "      <td>Aurelius, Marcus</td>\n",
       "      <td>Martin Hammond, Albert Wittstock, Simone Mooij...</td>\n",
       "      <td>=\"0140449337\"</td>\n",
       "      <td>=\"9780140449334\"</td>\n",
       "      <td>4</td>\n",
       "      <td>4.22</td>\n",
       "      <td>Penguin Books</td>\n",
       "      <td>...</td>\n",
       "      <td>NaN</td>\n",
       "      <td>1</td>\n",
       "      <td>NaN</td>\n",
       "      <td>NaN</td>\n",
       "      <td>0</td>\n",
       "      <td>NaN</td>\n",
       "      <td>NaN</td>\n",
       "      <td>NaN</td>\n",
       "      <td>NaN</td>\n",
       "      <td>NaN</td>\n",
       "    </tr>\n",
       "  </tbody>\n",
       "</table>\n",
       "<p>2 rows × 31 columns</p>\n",
       "</div>"
      ],
      "text/plain": [
       "      Book Id        Title           Author        Author l-f  \\\n",
       "1121    52036   Siddhartha    Hermann Hesse    Hesse, Hermann   \n",
       "1122    30659  Meditations  Marcus Aurelius  Aurelius, Marcus   \n",
       "\n",
       "                                     Additional Authors           ISBN  \\\n",
       "1121                                       Hilda Rosner            =\"\"   \n",
       "1122  Martin Hammond, Albert Wittstock, Simone Mooij...  =\"0140449337\"   \n",
       "\n",
       "                ISBN13  My Rating  Average Rating      Publisher  ...  \\\n",
       "1121               =\"\"          5            4.03   Bantam Books  ...   \n",
       "1122  =\"9780140449334\"          4            4.22  Penguin Books  ...   \n",
       "\n",
       "     Private Notes  Read Count  Recommended For  Recommended By Owned Copies  \\\n",
       "1121           NaN           1              NaN             NaN            0   \n",
       "1122           NaN           1              NaN             NaN            0   \n",
       "\n",
       "     Original Purchase Date Original Purchase Location Condition  \\\n",
       "1121                    NaN                        NaN       NaN   \n",
       "1122                    NaN                        NaN       NaN   \n",
       "\n",
       "     Condition Description BCID  \n",
       "1121                   NaN  NaN  \n",
       "1122                   NaN  NaN  \n",
       "\n",
       "[2 rows x 31 columns]"
      ]
     },
     "execution_count": 4,
     "metadata": {},
     "output_type": "execute_result"
    }
   ],
   "source": [
    "df.tail(2)"
   ]
  },
  {
   "cell_type": "code",
   "execution_count": 5,
   "metadata": {},
   "outputs": [
    {
     "name": "stdout",
     "output_type": "stream",
     "text": [
      "Columns:\n",
      "- Book Id\n",
      "- Title\n",
      "- Author\n",
      "- Author l-f\n",
      "- Additional Authors\n",
      "- ISBN\n",
      "- ISBN13\n",
      "- My Rating\n",
      "- Average Rating\n",
      "- Publisher\n",
      "- Binding\n",
      "- Number of Pages\n",
      "- Year Published\n",
      "- Original Publication Year\n",
      "- Date Read\n",
      "- Date Added\n",
      "- Bookshelves\n",
      "- Bookshelves with positions\n",
      "- Exclusive Shelf\n",
      "- My Review\n",
      "- Spoiler\n",
      "- Private Notes\n",
      "- Read Count\n",
      "- Recommended For\n",
      "- Recommended By\n",
      "- Owned Copies\n",
      "- Original Purchase Date\n",
      "- Original Purchase Location\n",
      "- Condition\n",
      "- Condition Description\n",
      "- BCID\n"
     ]
    }
   ],
   "source": [
    "print('Columns:', *df.columns, sep='\\n- ')"
   ]
  },
  {
   "cell_type": "code",
   "execution_count": null,
   "metadata": {},
   "outputs": [],
   "source": []
  }
 ],
 "metadata": {
  "kernelspec": {
   "display_name": "Python 3",
   "language": "python",
   "name": "python3"
  },
  "language_info": {
   "codemirror_mode": {
    "name": "ipython",
    "version": 3
   },
   "file_extension": ".py",
   "mimetype": "text/x-python",
   "name": "python",
   "nbconvert_exporter": "python",
   "pygments_lexer": "ipython3",
   "version": "3.7.6"
  }
 },
 "nbformat": 4,
 "nbformat_minor": 4
}
