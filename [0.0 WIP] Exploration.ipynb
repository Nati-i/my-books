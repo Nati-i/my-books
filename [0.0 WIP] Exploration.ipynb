{
 "cells": [
  {
   "cell_type": "markdown",
   "metadata": {},
   "source": [
    "# Explore Data\n",
    "- Then build book tree"
   ]
  },
  {
   "cell_type": "code",
   "execution_count": 52,
   "metadata": {},
   "outputs": [],
   "source": [
    "import pandas as pd\n",
    "import numpy as np"
   ]
  },
  {
   "cell_type": "code",
   "execution_count": 37,
   "metadata": {},
   "outputs": [],
   "source": [
    "df = pd.read_csv('goodreads_library_export.csv')"
   ]
  },
  {
   "cell_type": "code",
   "execution_count": 36,
   "metadata": {},
   "outputs": [
    {
     "data": {
      "text/html": [
       "<div>\n",
       "<style scoped>\n",
       "    .dataframe tbody tr th:only-of-type {\n",
       "        vertical-align: middle;\n",
       "    }\n",
       "\n",
       "    .dataframe tbody tr th {\n",
       "        vertical-align: top;\n",
       "    }\n",
       "\n",
       "    .dataframe thead th {\n",
       "        text-align: right;\n",
       "    }\n",
       "</style>\n",
       "<table border=\"1\" class=\"dataframe\">\n",
       "  <thead>\n",
       "    <tr style=\"text-align: right;\">\n",
       "      <th></th>\n",
       "      <th>Book Id</th>\n",
       "      <th>Title</th>\n",
       "      <th>Author</th>\n",
       "      <th>ISBN</th>\n",
       "      <th>ISBN13</th>\n",
       "      <th>My Rating</th>\n",
       "      <th>Average Rating</th>\n",
       "      <th>Publisher</th>\n",
       "      <th>Number of Pages</th>\n",
       "      <th>Year Published</th>\n",
       "      <th>Original Publication Year</th>\n",
       "      <th>Date Read</th>\n",
       "      <th>Date Added</th>\n",
       "      <th>Bookshelves</th>\n",
       "      <th>Bookshelves with positions</th>\n",
       "      <th>Exclusive Shelf</th>\n",
       "      <th>My Review</th>\n",
       "    </tr>\n",
       "  </thead>\n",
       "  <tbody>\n",
       "    <tr>\n",
       "      <th>196</th>\n",
       "      <td>52036</td>\n",
       "      <td>Siddhartha</td>\n",
       "      <td>Hermann Hesse</td>\n",
       "      <td>=\"\"</td>\n",
       "      <td>=\"\"</td>\n",
       "      <td>5</td>\n",
       "      <td>4.03</td>\n",
       "      <td>Bantam Books</td>\n",
       "      <td>152.0</td>\n",
       "      <td>1981.0</td>\n",
       "      <td>1922.0</td>\n",
       "      <td>NaN</td>\n",
       "      <td>2016/10/03</td>\n",
       "      <td>NaN</td>\n",
       "      <td>NaN</td>\n",
       "      <td>read</td>\n",
       "      <td>NaN</td>\n",
       "    </tr>\n",
       "    <tr>\n",
       "      <th>197</th>\n",
       "      <td>30659</td>\n",
       "      <td>Meditations</td>\n",
       "      <td>Marcus Aurelius</td>\n",
       "      <td>=\"0140449337\"</td>\n",
       "      <td>=\"9780140449334\"</td>\n",
       "      <td>4</td>\n",
       "      <td>4.22</td>\n",
       "      <td>Penguin Books</td>\n",
       "      <td>303.0</td>\n",
       "      <td>2006.0</td>\n",
       "      <td>180.0</td>\n",
       "      <td>NaN</td>\n",
       "      <td>2016/10/03</td>\n",
       "      <td>NaN</td>\n",
       "      <td>NaN</td>\n",
       "      <td>read</td>\n",
       "      <td>NaN</td>\n",
       "    </tr>\n",
       "  </tbody>\n",
       "</table>\n",
       "</div>"
      ],
      "text/plain": [
       "     Book Id        Title           Author           ISBN            ISBN13  \\\n",
       "196    52036   Siddhartha    Hermann Hesse            =\"\"               =\"\"   \n",
       "197    30659  Meditations  Marcus Aurelius  =\"0140449337\"  =\"9780140449334\"   \n",
       "\n",
       "     My Rating  Average Rating      Publisher  Number of Pages  \\\n",
       "196          5            4.03   Bantam Books            152.0   \n",
       "197          4            4.22  Penguin Books            303.0   \n",
       "\n",
       "     Year Published  Original Publication Year Date Read  Date Added  \\\n",
       "196          1981.0                     1922.0       NaN  2016/10/03   \n",
       "197          2006.0                      180.0       NaN  2016/10/03   \n",
       "\n",
       "    Bookshelves Bookshelves with positions Exclusive Shelf My Review  \n",
       "196         NaN                        NaN            read       NaN  \n",
       "197         NaN                        NaN            read       NaN  "
      ]
     },
     "execution_count": 36,
     "metadata": {},
     "output_type": "execute_result"
    }
   ],
   "source": [
    "df.tail(2)"
   ]
  },
  {
   "cell_type": "code",
   "execution_count": 5,
   "metadata": {},
   "outputs": [
    {
     "name": "stdout",
     "output_type": "stream",
     "text": [
      "Columns:\n",
      "- Book Id\n",
      "- Title\n",
      "- Author\n",
      "- Author l-f\n",
      "- Additional Authors\n",
      "- ISBN\n",
      "- ISBN13\n",
      "- My Rating\n",
      "- Average Rating\n",
      "- Publisher\n",
      "- Binding\n",
      "- Number of Pages\n",
      "- Year Published\n",
      "- Original Publication Year\n",
      "- Date Read\n",
      "- Date Added\n",
      "- Bookshelves\n",
      "- Bookshelves with positions\n",
      "- Exclusive Shelf\n",
      "- My Review\n",
      "- Spoiler\n",
      "- Private Notes\n",
      "- Read Count\n",
      "- Recommended For\n",
      "- Recommended By\n",
      "- Owned Copies\n",
      "- Original Purchase Date\n",
      "- Original Purchase Location\n",
      "- Condition\n",
      "- Condition Description\n",
      "- BCID\n"
     ]
    }
   ],
   "source": [
    "print('Columns:', *df.columns, sep='\\n- ')"
   ]
  },
  {
   "cell_type": "code",
   "execution_count": 38,
   "metadata": {},
   "outputs": [
    {
     "data": {
      "text/plain": [
       "Index(['Book Id', 'Title', 'Author', 'Author l-f', 'Additional Authors',\n",
       "       'ISBN', 'ISBN13', 'My Rating', 'Average Rating', 'Publisher', 'Binding',\n",
       "       'Number of Pages', 'Year Published', 'Original Publication Year',\n",
       "       'Date Read', 'Date Added', 'Bookshelves', 'Bookshelves with positions',\n",
       "       'Exclusive Shelf', 'My Review', 'Spoiler', 'Private Notes',\n",
       "       'Read Count', 'Recommended For', 'Recommended By', 'Owned Copies',\n",
       "       'Original Purchase Date', 'Original Purchase Location', 'Condition',\n",
       "       'Condition Description', 'BCID'],\n",
       "      dtype='object')"
      ]
     },
     "execution_count": 38,
     "metadata": {},
     "output_type": "execute_result"
    }
   ],
   "source": [
    "df.columns"
   ]
  },
  {
   "cell_type": "code",
   "execution_count": 39,
   "metadata": {},
   "outputs": [],
   "source": [
    "# Drop Columns\n",
    "drop_columns = ['Book Id', 'Title', 'Author','My Rating', 'Average Rating',\n",
    "       'Date Read', 'Date Added', 'Bookshelves',\n",
    "       'Exclusive Shelf', 'My Review']\n",
    "\n",
    "for col in df.columns:\n",
    "    if col not in drop_columns:\n",
    "        df.drop(col, inplace=True, axis=1)"
   ]
  },
  {
   "cell_type": "code",
   "execution_count": 40,
   "metadata": {},
   "outputs": [],
   "source": [
    "# Get only read rows\n",
    "\n",
    "df = df[df['Exclusive Shelf'] == 'read']"
   ]
  },
  {
   "cell_type": "code",
   "execution_count": 41,
   "metadata": {},
   "outputs": [],
   "source": [
    "df.reset_index(inplace=True)"
   ]
  },
  {
   "cell_type": "code",
   "execution_count": 42,
   "metadata": {},
   "outputs": [
    {
     "name": "stderr",
     "output_type": "stream",
     "text": [
      "/Users/natitaw/opt/anaconda3/lib/python3.7/site-packages/pandas/core/frame.py:3997: SettingWithCopyWarning: \n",
      "A value is trying to be set on a copy of a slice from a DataFrame\n",
      "\n",
      "See the caveats in the documentation: https://pandas.pydata.org/pandas-docs/stable/user_guide/indexing.html#returning-a-view-versus-a-copy\n",
      "  errors=errors,\n"
     ]
    }
   ],
   "source": [
    "df.drop('index', inplace=True, axis=1)"
   ]
  },
  {
   "cell_type": "code",
   "execution_count": 47,
   "metadata": {},
   "outputs": [
    {
     "name": "stderr",
     "output_type": "stream",
     "text": [
      "/Users/natitaw/opt/anaconda3/lib/python3.7/site-packages/ipykernel_launcher.py:1: SettingWithCopyWarning: \n",
      "A value is trying to be set on a copy of a slice from a DataFrame.\n",
      "Try using .loc[row_indexer,col_indexer] = value instead\n",
      "\n",
      "See the caveats in the documentation: https://pandas.pydata.org/pandas-docs/stable/user_guide/indexing.html#returning-a-view-versus-a-copy\n",
      "  \"\"\"Entry point for launching an IPython kernel.\n",
      "/Users/natitaw/opt/anaconda3/lib/python3.7/site-packages/ipykernel_launcher.py:2: SettingWithCopyWarning: \n",
      "A value is trying to be set on a copy of a slice from a DataFrame.\n",
      "Try using .loc[row_indexer,col_indexer] = value instead\n",
      "\n",
      "See the caveats in the documentation: https://pandas.pydata.org/pandas-docs/stable/user_guide/indexing.html#returning-a-view-versus-a-copy\n",
      "  \n"
     ]
    }
   ],
   "source": [
    "df['Date Read'] = pd.to_datetime(df['Date Read'])\n",
    "df['Date Added'] = pd.to_datetime(df['Date Added'])"
   ]
  },
  {
   "cell_type": "code",
   "execution_count": 48,
   "metadata": {},
   "outputs": [
    {
     "data": {
      "text/html": [
       "<div>\n",
       "<style scoped>\n",
       "    .dataframe tbody tr th:only-of-type {\n",
       "        vertical-align: middle;\n",
       "    }\n",
       "\n",
       "    .dataframe tbody tr th {\n",
       "        vertical-align: top;\n",
       "    }\n",
       "\n",
       "    .dataframe thead th {\n",
       "        text-align: right;\n",
       "    }\n",
       "</style>\n",
       "<table border=\"1\" class=\"dataframe\">\n",
       "  <thead>\n",
       "    <tr style=\"text-align: right;\">\n",
       "      <th></th>\n",
       "      <th>Book Id</th>\n",
       "      <th>Title</th>\n",
       "      <th>Author</th>\n",
       "      <th>My Rating</th>\n",
       "      <th>Average Rating</th>\n",
       "      <th>Date Read</th>\n",
       "      <th>Date Added</th>\n",
       "      <th>Bookshelves</th>\n",
       "      <th>Exclusive Shelf</th>\n",
       "      <th>My Review</th>\n",
       "    </tr>\n",
       "  </thead>\n",
       "  <tbody>\n",
       "    <tr>\n",
       "      <th>128</th>\n",
       "      <td>36391536</td>\n",
       "      <td>She Has Her Mother's Laugh: The Powers, Perver...</td>\n",
       "      <td>Carl Zimmer</td>\n",
       "      <td>5</td>\n",
       "      <td>4.17</td>\n",
       "      <td>2019-03-24</td>\n",
       "      <td>2018-11-23</td>\n",
       "      <td>biology</td>\n",
       "      <td>read</td>\n",
       "      <td>This was a great book to read. Its full of fas...</td>\n",
       "    </tr>\n",
       "    <tr>\n",
       "      <th>129</th>\n",
       "      <td>35133922</td>\n",
       "      <td>Educated</td>\n",
       "      <td>Tara Westover</td>\n",
       "      <td>0</td>\n",
       "      <td>4.46</td>\n",
       "      <td>2019-03-02</td>\n",
       "      <td>2018-12-10</td>\n",
       "      <td>NaN</td>\n",
       "      <td>read</td>\n",
       "      <td>NaN</td>\n",
       "    </tr>\n",
       "    <tr>\n",
       "      <th>130</th>\n",
       "      <td>2657</td>\n",
       "      <td>To Kill a Mockingbird</td>\n",
       "      <td>Harper Lee</td>\n",
       "      <td>0</td>\n",
       "      <td>4.28</td>\n",
       "      <td>NaT</td>\n",
       "      <td>2019-02-27</td>\n",
       "      <td>NaN</td>\n",
       "      <td>read</td>\n",
       "      <td>NaN</td>\n",
       "    </tr>\n",
       "    <tr>\n",
       "      <th>131</th>\n",
       "      <td>2195464</td>\n",
       "      <td>What I Talk About When I Talk About Running</td>\n",
       "      <td>Haruki Murakami</td>\n",
       "      <td>5</td>\n",
       "      <td>3.85</td>\n",
       "      <td>2019-02-26</td>\n",
       "      <td>2019-02-14</td>\n",
       "      <td>NaN</td>\n",
       "      <td>read</td>\n",
       "      <td>This book is about the life of Haruki Murakami...</td>\n",
       "    </tr>\n",
       "    <tr>\n",
       "      <th>132</th>\n",
       "      <td>551520</td>\n",
       "      <td>The Wisdom of Insecurity: A Message for an Age...</td>\n",
       "      <td>Alan W. Watts</td>\n",
       "      <td>0</td>\n",
       "      <td>4.20</td>\n",
       "      <td>2019-02-15</td>\n",
       "      <td>2019-02-10</td>\n",
       "      <td>NaN</td>\n",
       "      <td>read</td>\n",
       "      <td>NaN</td>\n",
       "    </tr>\n",
       "    <tr>\n",
       "      <th>...</th>\n",
       "      <td>...</td>\n",
       "      <td>...</td>\n",
       "      <td>...</td>\n",
       "      <td>...</td>\n",
       "      <td>...</td>\n",
       "      <td>...</td>\n",
       "      <td>...</td>\n",
       "      <td>...</td>\n",
       "      <td>...</td>\n",
       "      <td>...</td>\n",
       "    </tr>\n",
       "    <tr>\n",
       "      <th>193</th>\n",
       "      <td>3228917</td>\n",
       "      <td>Outliers: The Story of Success</td>\n",
       "      <td>Malcolm Gladwell</td>\n",
       "      <td>4</td>\n",
       "      <td>4.16</td>\n",
       "      <td>NaT</td>\n",
       "      <td>2016-10-03</td>\n",
       "      <td>NaN</td>\n",
       "      <td>read</td>\n",
       "      <td>NaN</td>\n",
       "    </tr>\n",
       "    <tr>\n",
       "      <th>194</th>\n",
       "      <td>4069</td>\n",
       "      <td>Man's Search for Meaning</td>\n",
       "      <td>Viktor E. Frankl</td>\n",
       "      <td>5</td>\n",
       "      <td>4.36</td>\n",
       "      <td>NaT</td>\n",
       "      <td>2016-10-03</td>\n",
       "      <td>NaN</td>\n",
       "      <td>read</td>\n",
       "      <td>NaN</td>\n",
       "    </tr>\n",
       "    <tr>\n",
       "      <th>195</th>\n",
       "      <td>629</td>\n",
       "      <td>Zen and the Art of Motorcycle Maintenance: An ...</td>\n",
       "      <td>Robert M. Pirsig</td>\n",
       "      <td>4</td>\n",
       "      <td>3.77</td>\n",
       "      <td>NaT</td>\n",
       "      <td>2016-10-03</td>\n",
       "      <td>NaN</td>\n",
       "      <td>read</td>\n",
       "      <td>NaN</td>\n",
       "    </tr>\n",
       "    <tr>\n",
       "      <th>196</th>\n",
       "      <td>52036</td>\n",
       "      <td>Siddhartha</td>\n",
       "      <td>Hermann Hesse</td>\n",
       "      <td>5</td>\n",
       "      <td>4.03</td>\n",
       "      <td>NaT</td>\n",
       "      <td>2016-10-03</td>\n",
       "      <td>NaN</td>\n",
       "      <td>read</td>\n",
       "      <td>NaN</td>\n",
       "    </tr>\n",
       "    <tr>\n",
       "      <th>197</th>\n",
       "      <td>30659</td>\n",
       "      <td>Meditations</td>\n",
       "      <td>Marcus Aurelius</td>\n",
       "      <td>4</td>\n",
       "      <td>4.22</td>\n",
       "      <td>NaT</td>\n",
       "      <td>2016-10-03</td>\n",
       "      <td>NaN</td>\n",
       "      <td>read</td>\n",
       "      <td>NaN</td>\n",
       "    </tr>\n",
       "  </tbody>\n",
       "</table>\n",
       "<p>70 rows × 10 columns</p>\n",
       "</div>"
      ],
      "text/plain": [
       "      Book Id                                              Title  \\\n",
       "128  36391536  She Has Her Mother's Laugh: The Powers, Perver...   \n",
       "129  35133922                                           Educated   \n",
       "130      2657                              To Kill a Mockingbird   \n",
       "131   2195464        What I Talk About When I Talk About Running   \n",
       "132    551520  The Wisdom of Insecurity: A Message for an Age...   \n",
       "..        ...                                                ...   \n",
       "193   3228917                     Outliers: The Story of Success   \n",
       "194      4069                           Man's Search for Meaning   \n",
       "195       629  Zen and the Art of Motorcycle Maintenance: An ...   \n",
       "196     52036                                         Siddhartha   \n",
       "197     30659                                        Meditations   \n",
       "\n",
       "               Author  My Rating  Average Rating  Date Read Date Added  \\\n",
       "128       Carl Zimmer          5            4.17 2019-03-24 2018-11-23   \n",
       "129     Tara Westover          0            4.46 2019-03-02 2018-12-10   \n",
       "130        Harper Lee          0            4.28        NaT 2019-02-27   \n",
       "131   Haruki Murakami          5            3.85 2019-02-26 2019-02-14   \n",
       "132     Alan W. Watts          0            4.20 2019-02-15 2019-02-10   \n",
       "..                ...        ...             ...        ...        ...   \n",
       "193  Malcolm Gladwell          4            4.16        NaT 2016-10-03   \n",
       "194  Viktor E. Frankl          5            4.36        NaT 2016-10-03   \n",
       "195  Robert M. Pirsig          4            3.77        NaT 2016-10-03   \n",
       "196     Hermann Hesse          5            4.03        NaT 2016-10-03   \n",
       "197   Marcus Aurelius          4            4.22        NaT 2016-10-03   \n",
       "\n",
       "    Bookshelves Exclusive Shelf  \\\n",
       "128     biology            read   \n",
       "129         NaN            read   \n",
       "130         NaN            read   \n",
       "131         NaN            read   \n",
       "132         NaN            read   \n",
       "..          ...             ...   \n",
       "193         NaN            read   \n",
       "194         NaN            read   \n",
       "195         NaN            read   \n",
       "196         NaN            read   \n",
       "197         NaN            read   \n",
       "\n",
       "                                             My Review  \n",
       "128  This was a great book to read. Its full of fas...  \n",
       "129                                                NaN  \n",
       "130                                                NaN  \n",
       "131  This book is about the life of Haruki Murakami...  \n",
       "132                                                NaN  \n",
       "..                                                 ...  \n",
       "193                                                NaN  \n",
       "194                                                NaN  \n",
       "195                                                NaN  \n",
       "196                                                NaN  \n",
       "197                                                NaN  \n",
       "\n",
       "[70 rows x 10 columns]"
      ]
     },
     "execution_count": 48,
     "metadata": {},
     "output_type": "execute_result"
    }
   ],
   "source": [
    "df.tail(70)"
   ]
  },
  {
   "cell_type": "code",
   "execution_count": 64,
   "metadata": {},
   "outputs": [
    {
     "name": "stdout",
     "output_type": "stream",
     "text": [
      "2020-11-24 00:00:00 2020-11-24 00:00:00\n",
      "2020-11-24 00:00:00 2020-11-19 00:00:00\n",
      "2020-11-24 00:00:00 2020-11-18 00:00:00\n",
      "2020-11-24 00:00:00 2020-11-18 00:00:00\n",
      "2020-11-24 00:00:00 2018-02-23 00:00:00\n",
      "2020-11-24 00:00:00 2020-10-30 00:00:00\n",
      "2020-11-24 00:00:00 NaT\n"
     ]
    },
    {
     "ename": "ValueError",
     "evalue": "cannot convert float NaN to integer",
     "output_type": "error",
     "traceback": [
      "\u001b[0;31m---------------------------------------------------------------------------\u001b[0m",
      "\u001b[0;31mValueError\u001b[0m                                Traceback (most recent call last)",
      "\u001b[0;32m<ipython-input-64-4ea80a10aafc>\u001b[0m in \u001b[0;36m<module>\u001b[0;34m\u001b[0m\n\u001b[1;32m     14\u001b[0m         \u001b[0mbook2\u001b[0m \u001b[0;34m=\u001b[0m \u001b[0mdf\u001b[0m\u001b[0;34m[\u001b[0m\u001b[0;34m'Title'\u001b[0m\u001b[0;34m]\u001b[0m\u001b[0;34m[\u001b[0m\u001b[0mi\u001b[0m\u001b[0;34m]\u001b[0m\u001b[0;34m\u001b[0m\u001b[0;34m\u001b[0m\u001b[0m\n\u001b[1;32m     15\u001b[0m         \u001b[0mprint\u001b[0m\u001b[0;34m(\u001b[0m\u001b[0mstart\u001b[0m\u001b[0;34m,\u001b[0m \u001b[0mend\u001b[0m\u001b[0;34m)\u001b[0m\u001b[0;34m\u001b[0m\u001b[0;34m\u001b[0m\u001b[0m\n\u001b[0;32m---> 16\u001b[0;31m         \u001b[0;32mif\u001b[0m \u001b[0mstart\u001b[0m \u001b[0;34m!=\u001b[0m \u001b[0mpd\u001b[0m\u001b[0;34m.\u001b[0m\u001b[0mNaT\u001b[0m \u001b[0;32mand\u001b[0m \u001b[0mend\u001b[0m \u001b[0;34m!=\u001b[0m \u001b[0mpd\u001b[0m\u001b[0;34m.\u001b[0m\u001b[0mNaT\u001b[0m \u001b[0;32mand\u001b[0m \u001b[0mdiff\u001b[0m\u001b[0;34m(\u001b[0m\u001b[0mstart\u001b[0m\u001b[0;34m,\u001b[0m \u001b[0mend\u001b[0m\u001b[0;34m)\u001b[0m \u001b[0;34m<\u001b[0m \u001b[0;36m2\u001b[0m\u001b[0;34m:\u001b[0m\u001b[0;34m\u001b[0m\u001b[0;34m\u001b[0m\u001b[0m\n\u001b[0m\u001b[1;32m     17\u001b[0m             \u001b[0mmy_graph\u001b[0m\u001b[0;34m[\u001b[0m\u001b[0mbook\u001b[0m\u001b[0;34m]\u001b[0m\u001b[0;34m.\u001b[0m\u001b[0mappend\u001b[0m\u001b[0;34m(\u001b[0m\u001b[0mbook2\u001b[0m\u001b[0;34m)\u001b[0m\u001b[0;34m\u001b[0m\u001b[0;34m\u001b[0m\u001b[0m\n",
      "\u001b[0;32m<ipython-input-50-d25b1ef7910e>\u001b[0m in \u001b[0;36mdiff\u001b[0;34m(start, end)\u001b[0m\n\u001b[1;32m      1\u001b[0m \u001b[0;32mdef\u001b[0m \u001b[0mdiff\u001b[0m\u001b[0;34m(\u001b[0m\u001b[0mstart\u001b[0m\u001b[0;34m,\u001b[0m \u001b[0mend\u001b[0m\u001b[0;34m)\u001b[0m\u001b[0;34m:\u001b[0m\u001b[0;34m\u001b[0m\u001b[0;34m\u001b[0m\u001b[0m\n\u001b[1;32m      2\u001b[0m     \u001b[0mx\u001b[0m \u001b[0;34m=\u001b[0m \u001b[0mpd\u001b[0m\u001b[0;34m.\u001b[0m\u001b[0mto_datetime\u001b[0m\u001b[0;34m(\u001b[0m\u001b[0mend\u001b[0m\u001b[0;34m)\u001b[0m \u001b[0;34m-\u001b[0m \u001b[0mpd\u001b[0m\u001b[0;34m.\u001b[0m\u001b[0mto_datetime\u001b[0m\u001b[0;34m(\u001b[0m\u001b[0mstart\u001b[0m\u001b[0;34m)\u001b[0m\u001b[0;34m\u001b[0m\u001b[0;34m\u001b[0m\u001b[0m\n\u001b[0;32m----> 3\u001b[0;31m     \u001b[0;32mreturn\u001b[0m \u001b[0mint\u001b[0m\u001b[0;34m(\u001b[0m\u001b[0mx\u001b[0m \u001b[0;34m/\u001b[0m \u001b[0mnp\u001b[0m\u001b[0;34m.\u001b[0m\u001b[0mtimedelta64\u001b[0m\u001b[0;34m(\u001b[0m\u001b[0;36m1\u001b[0m\u001b[0;34m,\u001b[0m \u001b[0;34m'W'\u001b[0m\u001b[0;34m)\u001b[0m\u001b[0;34m)\u001b[0m\u001b[0;34m\u001b[0m\u001b[0;34m\u001b[0m\u001b[0m\n\u001b[0m",
      "\u001b[0;31mValueError\u001b[0m: cannot convert float NaN to integer"
     ]
    }
   ],
   "source": [
    "my_graph = dict()\n",
    "\n",
    "for i in range(len(df)):\n",
    "    \n",
    "    book = df['Title'][i]\n",
    "    my_graph[book] = []\n",
    "    \n",
    "    start = df['Date Read'][i]\n",
    "    date_added = df['Date Added'][i]\n",
    "    \n",
    "    # Same family if its within two weeks\n",
    "    for j in range(len(df)):\n",
    "        end = df['Date Read'][j]\n",
    "        book2 = df['Title'][i]\n",
    "        print(start, end)\n",
    "        if start != pd.NaT and end != pd.NaT and diff(start, end) < 2:\n",
    "            my_graph[book].append(book2)"
   ]
  },
  {
   "cell_type": "code",
   "execution_count": 49,
   "metadata": {},
   "outputs": [
    {
     "data": {
      "text/plain": [
       "Timestamp('2020-04-16 00:00:00')"
      ]
     },
     "execution_count": 49,
     "metadata": {},
     "output_type": "execute_result"
    }
   ],
   "source": [
    "df['Date Read'][33]"
   ]
  },
  {
   "cell_type": "code",
   "execution_count": 50,
   "metadata": {},
   "outputs": [],
   "source": [
    "def diff(start, end):\n",
    "    x = pd.to_datetime(end) - pd.to_datetime(start)\n",
    "    return int(x / np.timedelta64(1, 'W'))"
   ]
  },
  {
   "cell_type": "code",
   "execution_count": 60,
   "metadata": {},
   "outputs": [
    {
     "name": "stdout",
     "output_type": "stream",
     "text": [
      "2020-04-16 00:00:00 NaT\n"
     ]
    },
    {
     "data": {
      "text/plain": [
       "7"
      ]
     },
     "execution_count": 60,
     "metadata": {},
     "output_type": "execute_result"
    }
   ],
   "source": [
    "print(df['Date Read'][33], df['Date Read'][150])\n",
    "diff(df['Date Read'][33], df['Date Read'][22])"
   ]
  },
  {
   "cell_type": "code",
   "execution_count": null,
   "metadata": {},
   "outputs": [],
   "source": []
  },
  {
   "cell_type": "code",
   "execution_count": null,
   "metadata": {},
   "outputs": [],
   "source": [
    "graph = { \"a\" : [\"c\"],\n",
    "          \"b\" : [\"c\", \"e\"],\n",
    "          \"c\" : [\"a\", \"b\", \"d\", \"e\"],\n",
    "          \"d\" : [\"c\"],\n",
    "          \"e\" : [\"c\", \"b\"],\n",
    "          \"f\" : []\n",
    "        }"
   ]
  },
  {
   "cell_type": "code",
   "execution_count": null,
   "metadata": {},
   "outputs": [],
   "source": [
    "def generate_edges(graph):\n",
    "    edges = []\n",
    "    for node in graph:\n",
    "        for neighbour in graph[node]:\n",
    "            edges.append((node, neighbour))\n",
    "\n",
    "    return edges\n",
    "\n",
    "print(generate_edges(graph))"
   ]
  }
 ],
 "metadata": {
  "kernelspec": {
   "display_name": "Python 3",
   "language": "python",
   "name": "python3"
  },
  "language_info": {
   "codemirror_mode": {
    "name": "ipython",
    "version": 3
   },
   "file_extension": ".py",
   "mimetype": "text/x-python",
   "name": "python",
   "nbconvert_exporter": "python",
   "pygments_lexer": "ipython3",
   "version": "3.7.6"
  }
 },
 "nbformat": 4,
 "nbformat_minor": 4
}
